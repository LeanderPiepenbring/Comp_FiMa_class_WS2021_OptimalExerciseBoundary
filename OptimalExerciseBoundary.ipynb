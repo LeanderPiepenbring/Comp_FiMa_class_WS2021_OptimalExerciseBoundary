{
 "cells": [
  {
   "cell_type": "code",
   "execution_count": 6,
   "id": "5b6cefd0",
   "metadata": {
    "id": "5b6cefd0"
   },
   "outputs": [],
   "source": [
    "import numpy as np\n",
    "import matplotlib.pyplot as plt\n",
    "from numpy import sqrt\n",
    "\n",
    "# berechnet den Preis der Aktie in bestimmten Knoten (i,j)\n",
    "\n",
    "def AktienPreis(S0,r,sigma,T,N,i,j):\n",
    "    \n",
    "    # Konstanten definieren\n",
    "    dt = T/N\n",
    "    R = np.exp(r*dt)\n",
    "    u = np.exp(sigma * sqrt(dt))\n",
    "    d = 1 / u\n",
    "    p = (R-d) / (u-d)\n",
    "     \n",
    "    if i<j:\n",
    "        print(\"i muss >= j sein\")\n",
    "    else:          \n",
    "        S = S0 * u**j * d**(i-j)\n",
    "                 \n",
    "    return(S)\n",
    "\n",
    "# berechnet alle Aktienpreise und speichert sie in einem Array\n",
    "\n",
    "def AlleAktienPreise(S0,r,sigma,T,N):\n",
    "    \n",
    "    # Array\n",
    "    aap = np.zeros((N+1, N+1))\n",
    "    \n",
    "    #durchläuft alle Kombinationen für i,j (i>j) und speichert sie in einem Array\n",
    "    for i in range(0, N+1):\n",
    "        for j in range(0, N+1):\n",
    "            if j <= i:\n",
    "                aap[i][j] = AktienPreis(S0,r,sigma,T,N,i,j)\n",
    "                \n",
    "    return(aap)\n",
    "\n",
    "# berechnet alle Put-Preise\n",
    "\n",
    "def AllePutPreise(S0,K,r,sigma,T,N):\n",
    "    \n",
    "    # Konstanten definieren\n",
    "    dt = T/N\n",
    "    R = np.exp(r*dt)\n",
    "    u = np.exp(sigma * sqrt(dt))\n",
    "    d = 1 / u\n",
    "    p = (R-d) / (u-d) \n",
    "        \n",
    "    #speichert alle Aktienpreise in \"preise\"\n",
    "    preise = AlleAktienPreise(S0,r,sigma,T,N)\n",
    "  \n",
    "    #Array für Put-Preise\n",
    "    PutPreise = np.zeros((N+1, N+1))\n",
    "    #Array für Boundary Knoten\n",
    "    Boundary = np.zeros((N+1, N+1))\n",
    "           \n",
    "    for i in range(len(PutPreise)-1, -1, -1):\n",
    "        for j in range(0,i+1):\n",
    "            default = K - preise[i][j]\n",
    "            if default <= 0:\n",
    "                default = 0\n",
    "                Boundary[i][j]=2\n",
    "            if i == len(PutPreise)-1:\n",
    "                PutPreise[i][j] = default\n",
    "                if preise[i][j] <= K:\n",
    "                    Boundary[i][j]=1\n",
    "            else: \n",
    "                E = 1/R *(p * PutPreise[i+1][j+1] + (1-p) * PutPreise[i+1][j])\n",
    "                if E == 0:\n",
    "                    Boundary[i][j]=2 \n",
    "                else:\n",
    "                    PutPreise[i][j] = max(E, default)\n",
    "                    if PutPreise[i][j] > default: \n",
    "                        Boundary[i][j]=2\n",
    "                    elif PutPreise[i][j] == default :\n",
    "                        Boundary[i][j]=1\n",
    "    #print(PutPreise)\n",
    "    print(Boundary)"
   ]
  },
  {
   "cell_type": "code",
   "execution_count": 3,
   "id": "80379313",
   "metadata": {
    "id": "80379313",
    "outputId": "1cdb505c-51d4-4f0f-a7b6-f73e98a70002"
   },
   "outputs": [
    {
     "data": {
      "text/plain": [
       "100.0"
      ]
     },
     "execution_count": 3,
     "metadata": {},
     "output_type": "execute_result"
    }
   ],
   "source": [
    "AktienPreis(100,0.05,0.25,1,12,2,1)"
   ]
  },
  {
   "cell_type": "code",
   "execution_count": 4,
   "id": "f9cbf124",
   "metadata": {
    "id": "f9cbf124",
    "outputId": "b0a60fbc-a524-45e7-bfc1-cf1704583b20"
   },
   "outputs": [
    {
     "data": {
      "text/plain": [
       "array([[100.        ,   0.        ,   0.        ,   0.        ,\n",
       "          0.        ,   0.        ,   0.        ,   0.        ,\n",
       "          0.        ,   0.        ,   0.        ,   0.        ,\n",
       "          0.        ],\n",
       "       [ 93.03738507, 107.48367436,   0.        ,   0.        ,\n",
       "          0.        ,   0.        ,   0.        ,   0.        ,\n",
       "          0.        ,   0.        ,   0.        ,   0.        ,\n",
       "          0.        ],\n",
       "       [ 86.5595502 , 100.        , 115.52740254,   0.        ,\n",
       "          0.        ,   0.        ,   0.        ,   0.        ,\n",
       "          0.        ,   0.        ,   0.        ,   0.        ,\n",
       "          0.        ],\n",
       "       [ 80.53274203,  93.03738507, 107.48367436, 124.17309715,\n",
       "          0.        ,   0.        ,   0.        ,   0.        ,\n",
       "          0.        ,   0.        ,   0.        ,   0.        ,\n",
       "          0.        ],\n",
       "       [ 74.92555731,  86.5595502 , 100.        , 115.52740254,\n",
       "        133.46580739,   0.        ,   0.        ,   0.        ,\n",
       "          0.        ,   0.        ,   0.        ,   0.        ,\n",
       "          0.        ],\n",
       "       [ 69.70877927,  80.53274203,  93.03738507, 107.48367436,\n",
       "        124.17309715, 143.4539538 ,   0.        ,   0.        ,\n",
       "          0.        ,   0.        ,   0.        ,   0.        ,\n",
       "          0.        ],\n",
       "       [ 64.85522539,  74.92555731,  86.5595502 , 100.        ,\n",
       "        115.52740254, 133.46580739, 154.18958056,   0.        ,\n",
       "          0.        ,   0.        ,   0.        ,   0.        ,\n",
       "          0.        ],\n",
       "       [ 60.33960578,  69.70877927,  80.53274203,  93.03738507,\n",
       "        107.48367436, 124.17309715, 143.4539538 , 165.72862667,\n",
       "          0.        ,   0.        ,   0.        ,   0.        ,\n",
       "          0.        ],\n",
       "       [ 56.13839138,  64.85522539,  74.92555731,  86.5595502 ,\n",
       "        100.        , 115.52740254, 133.46580739, 154.18958056,\n",
       "        178.13121741,   0.        ,   0.        ,   0.        ,\n",
       "          0.        ],\n",
       "       [ 52.22969136,  60.33960578,  69.70877927,  80.53274203,\n",
       "         93.03738507, 107.48367436, 124.17309715, 143.4539538 ,\n",
       "        165.72862667, 191.46197766,   0.        ,   0.        ,\n",
       "          0.        ],\n",
       "       [ 48.59313907,  56.13839138,  64.85522539,  74.92555731,\n",
       "         86.5595502 , 100.        , 115.52740254, 133.46580739,\n",
       "        154.18958056, 178.13121741, 205.7903686 ,   0.        ,\n",
       "          0.        ],\n",
       "       [ 45.20978591,  52.22969136,  60.33960578,  69.70877927,\n",
       "         80.53274203,  93.03738507, 107.48367436, 124.17309715,\n",
       "        143.4539538 , 165.72862667, 191.46197766, 221.19104965,\n",
       "          0.        ],\n",
       "       [ 42.06200261,  48.59313907,  56.13839138,  64.85522539,\n",
       "         74.92555731,  86.5595502 , 100.        , 115.52740254,\n",
       "        133.46580739, 154.18958056, 178.13121741, 205.7903686 ,\n",
       "        237.74426752]])"
      ]
     },
     "execution_count": 4,
     "metadata": {},
     "output_type": "execute_result"
    }
   ],
   "source": [
    "AlleAktienPreise(100,0.05,0.25,1,12)\n"
   ]
  },
  {
   "cell_type": "code",
   "execution_count": 5,
   "id": "06abdebd",
   "metadata": {
    "id": "06abdebd",
    "outputId": "a752361a-9c81-42a6-e42c-f0a689cc7e24"
   },
   "outputs": [
    {
     "name": "stdout",
     "output_type": "stream",
     "text": [
      "[[ 8.21223402  0.          0.          0.          0.          0.\n",
      "   0.          0.          0.          0.          0.          0.\n",
      "   0.        ]\n",
      " [11.30381818  5.23710426  0.          0.          0.          0.\n",
      "   0.          0.          0.          0.          0.          0.\n",
      "   0.        ]\n",
      " [15.16309087  7.59687411  2.95940581  0.          0.          0.\n",
      "   0.          0.          0.          0.          0.          0.\n",
      "   0.        ]\n",
      " [19.78405524 10.7352837   4.57179259  1.39900483  0.          0.\n",
      "   0.          0.          0.          0.          0.          0.\n",
      "   0.        ]\n",
      " [25.07444269 14.73083345  6.89104448  2.32939921  0.49656735  0.\n",
      "   0.          0.          0.          0.          0.          0.\n",
      "   0.        ]\n",
      " [30.29122073 19.56364822 10.09257829  3.79944205  0.90431512  0.10030128\n",
      "   0.          0.          0.          0.          0.          0.\n",
      "   0.        ]\n",
      " [35.14477461 25.07444269 14.29299437  6.04334353  1.62577819  0.20333749\n",
      "   0.          0.          0.          0.          0.          0.\n",
      "   0.        ]\n",
      " [39.66039422 30.29122073 19.46725797  9.3172619   2.8752082   0.41221942\n",
      "   0.          0.          0.          0.          0.          0.\n",
      "   0.        ]\n",
      " [43.86160862 35.14477461 25.07444269 13.81048011  4.9759874   0.83567889\n",
      "   0.          0.          0.          0.          0.          0.\n",
      "   0.        ]\n",
      " [47.77030864 39.66039422 30.29122073 19.46725797  8.35874616  1.69414435\n",
      "   0.          0.          0.          0.          0.          0.\n",
      "   0.        ]\n",
      " [51.40686093 43.86160862 35.14477461 25.07444269 13.4404498   3.43448319\n",
      "   0.          0.          0.          0.          0.          0.\n",
      "   0.        ]\n",
      " [54.79021409 47.77030864 39.66039422 30.29122073 19.46725797  6.96261493\n",
      "   0.          0.          0.          0.          0.          0.\n",
      "   0.        ]\n",
      " [57.93799739 51.40686093 43.86160862 35.14477461 25.07444269 13.4404498\n",
      "   0.          0.          0.          0.          0.          0.\n",
      "   0.        ]]\n"
     ]
    }
   ],
   "source": [
    "AllePutPreise(100,100,0.04,0.25,1,12)"
   ]
  },
  {
   "cell_type": "code",
   "execution_count": 7,
   "id": "2ea4e5d5",
   "metadata": {},
   "outputs": [
    {
     "name": "stdout",
     "output_type": "stream",
     "text": [
      "[[2. 0. 0. 0. 0. 0. 0. 0. 0. 0. 0. 0. 0.]\n",
      " [2. 2. 0. 0. 0. 0. 0. 0. 0. 0. 0. 0. 0.]\n",
      " [2. 2. 2. 0. 0. 0. 0. 0. 0. 0. 0. 0. 0.]\n",
      " [2. 2. 2. 2. 0. 0. 0. 0. 0. 0. 0. 0. 0.]\n",
      " [1. 2. 2. 2. 2. 0. 0. 0. 0. 0. 0. 0. 0.]\n",
      " [1. 2. 2. 2. 2. 2. 0. 0. 0. 0. 0. 0. 0.]\n",
      " [1. 1. 2. 2. 2. 2. 2. 0. 0. 0. 0. 0. 0.]\n",
      " [1. 1. 1. 2. 2. 2. 2. 2. 0. 0. 0. 0. 0.]\n",
      " [1. 1. 1. 2. 2. 2. 2. 2. 2. 0. 0. 0. 0.]\n",
      " [1. 1. 1. 1. 2. 2. 2. 2. 2. 2. 0. 0. 0.]\n",
      " [1. 1. 1. 1. 1. 2. 2. 2. 2. 2. 2. 0. 0.]\n",
      " [1. 1. 1. 1. 1. 1. 2. 2. 2. 2. 2. 2. 0.]\n",
      " [1. 1. 1. 1. 1. 1. 1. 2. 2. 2. 2. 2. 2.]]\n"
     ]
    }
   ],
   "source": [
    "AllePutPreise(100,100,0.04,0.25,1,12)"
   ]
  },
  {
   "cell_type": "code",
   "execution_count": 8,
   "id": "8a1e06e0",
   "metadata": {
    "id": "8a1e06e0",
    "outputId": "539f5d52-e30c-4461-8d8f-c420ecc9b057"
   },
   "outputs": [
    {
     "data": {
      "text/plain": [
       "[<matplotlib.lines.Line2D at 0x21248e2ef70>]"
      ]
     },
     "execution_count": 8,
     "metadata": {},
     "output_type": "execute_result"
    },
    {
     "data": {
      "image/png": "[encoded data removed]",
      "text/plain": [
       "<Figure size 432x288 with 1 Axes>"
      ]
     },
     "metadata": {
      "needs_background": "light"
     },
     "output_type": "display_data"
    }
   ],
   "source": [
    "# Visualisierung der Boundary Knoten\n",
    "i = [4,5,6,7,8,9,10,11,12]\n",
    "j = [0,0,1,2,2,3,4,5,6]\n",
    "fig, ax = plt.subplots()\n",
    "ax.set_xlabel(\"i - Periode\", fontsize = 11)\n",
    "ax.set_ylabel(\"j - Anzahl Aufwärtsschritte\", fontsize = 11)\n",
    "plt.ylim([0,12])\n",
    "ax.plot(i, j)"
   ]
  },
  {
   "cell_type": "code",
   "execution_count": 13,
   "id": "63a95899",
   "metadata": {
    "id": "63a95899"
   },
   "outputs": [],
   "source": [
    "# berechnet den Wert der Option in einem bestimmten Knoten (nk,ak)\n",
    "\n",
    "def Put(nk, ak, K, S0, u, d,N, R, p):\n",
    "\n",
    "    # a0 ist die Anzahl der Aufwärtsbewegungen, für die der Preis der Aktie in Periode N größer dem Strikepreis ist\n",
    "    a0 = int(np.ceil(np.log(K/(S0*d**N))/np.log(u/d))) \n",
    "    n0=N\n",
    "    \n",
    "    if nk == n0:\n",
    "        if ak <= a0-1:\n",
    "            return (K - S0*u**(ak)*d**(n0-ak))\n",
    "        else:\n",
    "            return 0\n",
    "            \n",
    "    else:\n",
    "        default1 = K - S0*u**(ak)*d**(nk-ak)\n",
    "        if default1 > 0:\n",
    "            E = (1/R)*(p*Put(nk+1, ak+1, K, S0, u, d,N, R, p)) + ((1-p)/R)*Put(nk+1, ak,K, S0, u, d,N, R, p)\n",
    "            return max(E, default1)\n",
    "        else:\n",
    "            default1 = 0\n",
    "            E = (1/R)*(p*Put(nk+1, ak+1, K, S0, u, d,N, R, p)) + ((1-p)/R)*Put(nk+1, ak,K, S0, u, d,N, R, p)\n",
    "            return max(E, default1)\n",
    "          \n",
    "# berechnet den Zeitwert einer Put-Option in einem bestimmten Knoten\n",
    "\n",
    "def timevalue(nk, ak, K, S0, u, d, N, R, p):\n",
    "    return (Put(nk, ak, K, S0, u, d, N, R, p) - (K - S0*(u**ak)*d**(nk-ak)))\n",
    "\n",
    "# berechnet ik, nk und ak\n",
    "def BoundaryKnoten(S0, K, r, sigma, T, N):\n",
    "    dt = T/N\n",
    "    R = np.exp(r*dt)\n",
    "    u = np.exp(sigma * sqrt(dt))\n",
    "    d = 1 / u\n",
    "    p = (R-d) / (u-d)\n",
    "    a0 = int(np.ceil(np.log(K/(S0*d**N))/np.log(u/d)))\n",
    "    n =np.zeros(N+1, int)\n",
    "    a =np.zeros(N+1, int)\n",
    "    i = np.zeros(N+1, int)\n",
    "    n[0] = N\n",
    "    a[0] = a0\n",
    "    K1 = K*((R-1)/(R-p))\n",
    "    \n",
    "    for k in range(N):\n",
    "        t = timevalue(int(n[k]), int(a[k]), K, S0, u, d, N, R, p)\n",
    "        print(t)\n",
    "        VP = np.log(K1/(K1+t))/np.log(p/R)\n",
    "        print(VP)\n",
    "        if np.ceil(VP) <= N:\n",
    "            i[k+1] = np.ceil(VP)\n",
    "            n[k+1] = n[k] - i[k+1]\n",
    "            a[k+1] = a[k] - i[k+1] + 1\n",
    "            if a[k+1] <= 0:\n",
    "                break\n",
    "            else:\n",
    "                print(i)\n",
    "                print(n)\n",
    "                print(a)\n",
    "        else:\n",
    "            break\n",
    "    print(i)\n",
    "    print(n)\n",
    "    print(a)   \n",
    "    return i, n, a "
   ]
  },
  {
   "cell_type": "code",
   "execution_count": 14,
   "id": "e681f11a",
   "metadata": {
    "colab": {
     "base_uri": "https://localhost:8080/"
    },
    "id": "e681f11a",
    "outputId": "b31cda21-81bd-4c75-c5e5-950a3bae99bf"
   },
   "outputs": [
    {
     "name": "stdout",
     "output_type": "stream",
     "text": [
      "15.527402544014294\n",
      "4.64056633317107\n",
      "[0 5 0 0 0 0 0 0 0 0 0 0 0]\n",
      "[12  7  0  0  0  0  0  0  0  0  0  0  0]\n",
      "[7 3 0 0 0 0 0 0 0 0 0 0 0]\n",
      "2.3546469707913893\n",
      "2.1958012140010776\n",
      "[0 5 3 0 0 0 0 0 0 0 0 0 0]\n",
      "[12  7  4  0  0  0  0  0  0  0  0  0  0]\n",
      "[7 3 1 0 0 0 0 0 0 0 0 0 0]\n",
      "1.2903836466124918\n",
      "1.5640268593420856\n",
      "[0 5 3 2 0 0 0 0 0 0 0 0 0]\n",
      "[12  7  4  2  0  0  0  0  0  0  0  0  0]\n",
      "[7 3 1 0 0 0 0 0 0 0 0 0 0]\n"
     ]
    },
    {
     "data": {
      "text/plain": [
       "(array([0, 5, 3, 2, 0, 0, 0, 0, 0, 0, 0, 0, 0]),\n",
       " array([12,  7,  4,  2,  0,  0,  0,  0,  0,  0,  0,  0,  0]),\n",
       " array([7, 3, 1, 0, 0, 0, 0, 0, 0, 0, 0, 0, 0]))"
      ]
     },
     "execution_count": 14,
     "metadata": {},
     "output_type": "execute_result"
    }
   ],
   "source": [
    "BoundaryKnoten(100,100,0.04,0.25,1,12)"
   ]
  },
  {
   "cell_type": "code",
   "execution_count": 15,
   "id": "b0cebc6e",
   "metadata": {
    "colab": {
     "base_uri": "https://localhost:8080/"
    },
    "id": "b0cebc6e",
    "outputId": "0921291f-5fd9-48bc-cced-7abb741ca6b6"
   },
   "outputs": [
    {
     "name": "stdout",
     "output_type": "stream",
     "text": [
      "15.527402544014294\n",
      "4.64056633317107\n",
      "[0 5 0 0 0 0 0 0 0 0 0 0 0]\n",
      "[12  7  0  0  0  0  0  0  0  0  0  0  0]\n",
      "[7 3 0 0 0 0 0 0 0 0 0 0 0]\n",
      "2.3546469707913893\n",
      "2.1958012140010776\n",
      "[0 5 3 0 0 0 0 0 0 0 0 0 0]\n",
      "[12  7  4  0  0  0  0  0  0  0  0  0  0]\n",
      "[7 3 1 0 0 0 0 0 0 0 0 0 0]\n",
      "1.2903836466124918\n",
      "1.5640268593420856\n",
      "[0 5 3 2 0 0 0 0 0 0 0 0 0]\n",
      "[12  7  4  2  0  0  0  0  0  0  0  0  0]\n",
      "[7 3 1 0 0 0 0 0 0 0 0 0 0]\n"
     ]
    }
   ],
   "source": [
    "array_i, array_n, array_a = BoundaryKnoten(100,100,0.04,0.25,1,12)"
   ]
  },
  {
   "cell_type": "code",
   "execution_count": 16,
   "id": "bd36d61b",
   "metadata": {
    "id": "bd36d61b"
   },
   "outputs": [],
   "source": [
    "# berechnet die Boundary Knoten und setzt sie in den array \"EmptySquare\" ein\n",
    "def FillTheSquare(N):\n",
    "    EmptySquare = np.zeros((N+1, N+1), int)\n",
    "    EmptySquare[N][array_a[0]-1] = 1\n",
    "    for i in range(1, len(array_i)):\n",
    "        array_i[i] = array_i[i-1] + array_i[i]\n",
    "    for i in range(1, len(array_a)):\n",
    "        if array_a[i] > 0:\n",
    "            EmptySquare[N-array_i[i]][array_a[i]-1] = 1\n",
    "            EmptySquare[N-array_i[i]+1][array_a[i]-1] = 1\n",
    "    for i in range(N):\n",
    "        for j in range(N):\n",
    "            if EmptySquare[i][j] == 1:\n",
    "                if EmptySquare[i+1][j] == 1:\n",
    "                    continue\n",
    "                else:\n",
    "                    EmptySquare[i+1][j+1]=1\n",
    "    print(EmptySquare)\n",
    "    return EmptySquare"
   ]
  },
  {
   "cell_type": "code",
   "execution_count": 17,
   "id": "jh1s41G_3VVC",
   "metadata": {
    "colab": {
     "base_uri": "https://localhost:8080/"
    },
    "id": "jh1s41G_3VVC",
    "outputId": "76e6bc5a-9033-4f15-adc8-5014f09bb3f4"
   },
   "outputs": [
    {
     "name": "stdout",
     "output_type": "stream",
     "text": [
      "[[0 0 0 0 0 0 0 0 0 0 0 0 0]\n",
      " [0 0 0 0 0 0 0 0 0 0 0 0 0]\n",
      " [0 0 0 0 0 0 0 0 0 0 0 0 0]\n",
      " [0 0 0 0 0 0 0 0 0 0 0 0 0]\n",
      " [1 0 0 0 0 0 0 0 0 0 0 0 0]\n",
      " [1 0 0 0 0 0 0 0 0 0 0 0 0]\n",
      " [0 1 0 0 0 0 0 0 0 0 0 0 0]\n",
      " [0 0 1 0 0 0 0 0 0 0 0 0 0]\n",
      " [0 0 1 0 0 0 0 0 0 0 0 0 0]\n",
      " [0 0 0 1 0 0 0 0 0 0 0 0 0]\n",
      " [0 0 0 0 1 0 0 0 0 0 0 0 0]\n",
      " [0 0 0 0 0 1 0 0 0 0 0 0 0]\n",
      " [0 0 0 0 0 0 1 0 0 0 0 0 0]]\n"
     ]
    }
   ],
   "source": [
    "SquareWithBoundary = FillTheSquare(12)"
   ]
  },
  {
   "cell_type": "code",
   "execution_count": 18,
   "id": "PIeUDkrg6K4I",
   "metadata": {
    "id": "PIeUDkrg6K4I"
   },
   "outputs": [],
   "source": [
    "# berechnet den Preis der Put Option auf Basis der Optimal Exercise Boundary\n",
    "def PutBoundary(S0,K,r,sigma,T,N,i,j):\n",
    "    dt = T/N\n",
    "    R = np.exp(r*dt)\n",
    "    u = np.exp(sigma * sqrt(dt))\n",
    "    d = 1 / u\n",
    "    a0 = int(np.ceil(np.log(K/(S0*d**N))/np.log(u/d)))\n",
    "    p = (R-d) / (u-d)\n",
    "    if i == N:\n",
    "        if j >= a0:\n",
    "            return 0\n",
    "        else:\n",
    "            return (K - S0*(u**j)*d**(i-j))\n",
    "    for k in range(i, N):\n",
    "        if SquareWithBoundary[k,j] == 1:\n",
    "            return Put(i, j, K, S0, u, d,N, R, p)\n",
    "            break\n",
    "    return (K - S0*(u**j)*d**(i-j))\n",
    "\n"
   ]
  },
  {
   "cell_type": "code",
   "execution_count": 19,
   "id": "i0DOVBge9iMz",
   "metadata": {
    "colab": {
     "base_uri": "https://localhost:8080/"
    },
    "id": "i0DOVBge9iMz",
    "outputId": "a56c100f-11a3-4bdf-a147-6711d01853a2"
   },
   "outputs": [
    {
     "name": "stdout",
     "output_type": "stream",
     "text": [
      "1.3990048317821826\n"
     ]
    }
   ],
   "source": [
    "print(PutBoundary(100,100,0.04,0.25,1,12,3,3))"
   ]
  },
  {
   "cell_type": "code",
   "execution_count": null,
   "id": "cbfd041c",
   "metadata": {},
   "outputs": [],
   "source": []
  }
 ],
 "metadata": {
  "colab": {
   "collapsed_sections": [],
   "name": "BoundaryVersuch3.ipynb",
   "provenance": []
  },
  "kernelspec": {
   "display_name": "Python 3 (ipykernel)",
   "language": "python",
   "name": "python3"
  },
  "language_info": {
   "codemirror_mode": {
    "name": "ipython",
    "version": 3
   },
   "file_extension": ".py",
   "mimetype": "text/x-python",
   "name": "python",
   "nbconvert_exporter": "python",
   "pygments_lexer": "ipython3",
   "version": "3.8.8"
  }
 },
 "nbformat": 4,
 "nbformat_minor": 5
}
